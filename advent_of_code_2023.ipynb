{
  "cells": [
    {
      "cell_type": "code",
      "source": [
        "#Day 1\n",
        "#star 1\n",
        "import re\n",
        "\n",
        "def replace_written(s):\n",
        "  written_digits = {'one': 'o1e', 'two': 't2o', 'three': 't3e', 'four': 'f4r', 'five': 'f5e',\n",
        "              'six': 's6x', 'seven': 's7n', 'eight': 'e8t', 'nine': 'n9e'}\n",
        "  for key, value in written_digits.items():\n",
        "    s = s.replace(key, value)\n",
        "  return s\n",
        "\n",
        "def calculate_numbers(lines):\n",
        "  numbers = list(map(lambda x: re.findall(r'\\d', x), lines))\n",
        "  digits = list(map(lambda x: str(x[0]) + str(x[-1]), numbers))\n",
        "  print(sum(list(map(lambda x: int(x), digits))))\n",
        "\n",
        "with open(\"input.txt\") as f:\n",
        "  lines = [line.replace('\\n', '') for line in f.readlines()]\n",
        "  calculate_numbers(lines)\n",
        "\n",
        "#star 2\n",
        "  replaces_lines = list(map(lambda x: replace_written(x), lines))\n",
        "  calculate_numbers(replaces_lines)\n",
        "\n"
      ],
      "metadata": {
        "id": "nW6F_WDmT1Ob",
        "colab": {
          "base_uri": "https://localhost:8080/"
        },
        "outputId": "b9dba257-8774-40c6-82c2-c954d601084c"
      },
      "execution_count": 71,
      "outputs": [
        {
          "output_type": "stream",
          "name": "stdout",
          "text": [
            "54697\n",
            "54885\n"
          ]
        }
      ]
    }
  ],
  "metadata": {
    "colab": {
      "provenance": []
    },
    "kernelspec": {
      "display_name": "Python 3",
      "name": "python3"
    }
  },
  "nbformat": 4,
  "nbformat_minor": 0
}