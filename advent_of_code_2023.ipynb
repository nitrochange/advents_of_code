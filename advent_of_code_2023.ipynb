{
  "cells": [
    {
      "cell_type": "markdown",
      "metadata": {
        "id": "view-in-github",
        "colab_type": "text"
      },
      "source": [
        "<a href=\"https://colab.research.google.com/github/nitrochange/advents_of_code/blob/main/advent_of_code_2023.ipynb\" target=\"_parent\"><img src=\"https://colab.research.google.com/assets/colab-badge.svg\" alt=\"Open In Colab\"/></a>"
      ]
    },
    {
      "cell_type": "code",
      "source": [
        "#Day 1\n",
        "#star 1\n",
        "import re\n",
        "\n",
        "def replace_written(s):\n",
        "  written_digits = {'one': 'o1e', 'two': 't2o', 'three': 't3e', 'four': 'f4r', 'five': 'f5e',\n",
        "              'six': 's6x', 'seven': 's7n', 'eight': 'e8t', 'nine': 'n9e'}\n",
        "  for key, value in written_digits.items():\n",
        "    s = s.replace(key, value)\n",
        "  return s\n",
        "\n",
        "def calculate_numbers(lines):\n",
        "  numbers = list(map(lambda x: re.findall(r'\\d', x), lines))\n",
        "  digits = list(map(lambda x: str(x[0]) + str(x[-1]), numbers))\n",
        "  print(sum(list(map(lambda x: int(x), digits))))\n",
        "\n",
        "with open(\"input.txt\") as f:\n",
        "  lines = [line.replace('\\n', '') for line in f.readlines()]\n",
        "  calculate_numbers(lines)\n",
        "\n",
        "#star 2\n",
        "  replaces_lines = list(map(lambda x: replace_written(x), lines))\n",
        "  calculate_numbers(replaces_lines)\n",
        "\n"
      ],
      "metadata": {
        "id": "nW6F_WDmT1Ob",
        "colab": {
          "base_uri": "https://localhost:8080/"
        },
        "outputId": "b9dba257-8774-40c6-82c2-c954d601084c"
      },
      "execution_count": null,
      "outputs": [
        {
          "output_type": "stream",
          "name": "stdout",
          "text": [
            "54697\n",
            "54885\n"
          ]
        }
      ]
    },
    {
      "cell_type": "code",
      "source": [
        "import functools\n",
        "# Day 2\n",
        "# star 1\n",
        "def check_is_game_id_applicable(line):\n",
        "  strings = line.split(\":\")\n",
        "  game_number = int(strings[0].split(\" \")[-1])\n",
        "  list_pairs = list(map(lambda x: x.split(', '), strings[1].split('; ')))\n",
        "  for pairs in list_pairs:\n",
        "    for pair in pairs:\n",
        "      if not is_pair_correct(pair.strip()):\n",
        "        return 0\n",
        "  return game_number\n",
        "\n",
        "\n",
        "def is_pair_correct(pair):\n",
        "  target = {'blue': 14, 'green': 13, 'red': 12}\n",
        "  return target[pair.split(' ')[1]] >= int(pair.split(' ')[0])\n",
        "\n",
        "def calculate_line_power(line):\n",
        "  strings = line.split(\":\")\n",
        "  list_pairs = list(map(lambda x: x.split(', '), strings[1].split('; ')))\n",
        "  maxis = {'blue': 0, 'green': 0, 'red': 0}\n",
        "  for pairs in list_pairs:\n",
        "    for pair in pairs:\n",
        "      stripped_pair = pair.strip().split(' ')\n",
        "      if maxis[stripped_pair[1]] < int(stripped_pair[0]):\n",
        "        maxis[stripped_pair[1]] = int(stripped_pair[0])\n",
        "  return functools.reduce(lambda a, b: a*b, list(map(lambda elem: maxis[elem], maxis.keys())))\n",
        "\n",
        "\n",
        "with open(\"input_2.txt\") as f:\n",
        "  lines = [line.replace('\\n', '') for line in f.readlines()]\n",
        "  print(sum(list(map(lambda x: check_is_game_id_applicable(x), lines))))\n",
        "#star 2\n",
        "  print(sum(list(map(lambda x: calculate_line_power(x), lines))))\n",
        "\n"
      ],
      "metadata": {
        "colab": {
          "base_uri": "https://localhost:8080/"
        },
        "id": "KEPPDu3EWnmB",
        "outputId": "6a44c7f7-ba05-4e38-c384-d7c5a24d176e"
      },
      "execution_count": 7,
      "outputs": [
        {
          "output_type": "stream",
          "name": "stdout",
          "text": [
            "2406\n",
            "78375\n"
          ]
        }
      ]
    }
  ],
  "metadata": {
    "colab": {
      "provenance": [],
      "include_colab_link": true
    },
    "kernelspec": {
      "display_name": "Python 3",
      "name": "python3"
    }
  },
  "nbformat": 4,
  "nbformat_minor": 0
}