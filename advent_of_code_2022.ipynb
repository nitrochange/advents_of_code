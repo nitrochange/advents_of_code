{
  "nbformat": 4,
  "nbformat_minor": 0,
  "metadata": {
    "colab": {
      "provenance": [],
      "authorship_tag": "ABX9TyNqc4hPmbDXnOiFUwrVf9gA"
    },
    "kernelspec": {
      "name": "python3",
      "display_name": "Python 3"
    },
    "language_info": {
      "name": "python"
    }
  },
  "cells": [
    {
      "cell_type": "code",
      "execution_count": null,
      "metadata": {
        "id": "xyG10cS47kv-",
        "colab": {
          "base_uri": "https://localhost:8080/"
        },
        "outputId": "12d5eca1-f32a-432d-9db2-7819e7ab88ed"
      },
      "outputs": [
        {
          "output_type": "stream",
          "name": "stdout",
          "text": [
            "70296\n"
          ]
        }
      ],
      "source": [
        "#Day 1\n",
        "#Star 1\n",
        "with open(\"input.txt\") as f:\n",
        "  lines = [line.replace('\\n', '') for line in f.readlines()]\n",
        "  elfs = list()\n",
        "  for index in range(len(lines)):\n",
        "    food = 0\n",
        "    while index < len(lines) and lines[index] != '':\n",
        "      food += int(lines[index])\n",
        "      index += 1\n",
        "    elfs.append(food)\n",
        "print(max(elfs))\n",
        "\n"
      ]
    },
    {
      "cell_type": "code",
      "source": [
        "#Day 1 star 2\n",
        "print(sum(sorted(elfs, reverse=True)[:3]))"
      ],
      "metadata": {
        "colab": {
          "base_uri": "https://localhost:8080/"
        },
        "id": "AX-C6ryk_V4p",
        "outputId": "c775ff3e-3f1a-40a0-8e86-edc8bd4f0392"
      },
      "execution_count": null,
      "outputs": [
        {
          "output_type": "stream",
          "name": "stdout",
          "text": [
            "205381\n"
          ]
        }
      ]
    },
    {
      "cell_type": "code",
      "source": [
        "#Day 2 star 1\n",
        "#X - камень, Y - бумага, Z - ножницы\n",
        "rewards = {'X': 1, 'Y':2, 'Z':3}\n",
        "enemy = {'A':'X', 'B':'Y', 'C':'Z'}\n",
        "total_score = 0\n",
        "with open(\"input.txt\") as f:\n",
        "  lines = [line.replace('\\n', '').split(' ') for line in f.readlines()]\n",
        "  for line in lines:\n",
        "    total_score += rewards[line[1]]\n",
        "    if enemy[line[0]] == line[1]:\n",
        "      total_score += 3\n",
        "      continue\n",
        "    if line[1] == 'X':\n",
        "      if enemy[line[0]] == 'Z':\n",
        "        total_score += 6\n",
        "    elif line[1] == 'Y':\n",
        "      if enemy[line[0]] == 'X':\n",
        "        total_score += 6\n",
        "    else:\n",
        "      if enemy[line[0]] == 'Y':\n",
        "        total_score += 6\n",
        "print(total_score)"
      ],
      "metadata": {
        "id": "SRqxHIjc_U5j",
        "outputId": "2205c648-1d3a-40ee-c655-5e1e806cdf6c",
        "colab": {
          "base_uri": "https://localhost:8080/"
        }
      },
      "execution_count": null,
      "outputs": [
        {
          "output_type": "stream",
          "name": "stdout",
          "text": [
            "12586\n"
          ]
        }
      ]
    },
    {
      "cell_type": "code",
      "source": [
        "#Day 2 star 2\n",
        "#X - проигрыш, Y - ничья, Z - выигрыш\n",
        "total_score = 0\n",
        "rev_choise = {'X': {'X':'Z', 'Y': 'X', 'Z':'Y'}, 'Y': {'X':'X', 'Y': 'Y', 'Z':'Z'}, 'Z':{'X':'Y', 'Y':'Z','Z':'X'}}\n",
        "rounds = {'X': 0, 'Y': 3, 'Z':6}\n",
        "convert = {'A':'X', 'B':'Y', 'C':'Z'}\n",
        "rewards = {'X': 1, 'Y':2, 'Z':3}\n",
        "with open(\"input.txt\") as f:\n",
        "  lines = [line.replace('\\n', '').split(' ') for line in f.readlines()]\n",
        "  lines = list(map(lambda x: list(convert[x[0]]) + x[1:], lines))\n",
        "  for line in  lines:\n",
        "    total_score += rounds[line[1]]\n",
        "    total_score += rewards[rev_choise[line[1]][line[0]]]\n",
        "print(total_score)"
      ],
      "metadata": {
        "id": "SQmJTeb_XJnm",
        "outputId": "2d8eb8ad-99a9-4586-9acf-bd1065944a4a",
        "colab": {
          "base_uri": "https://localhost:8080/"
        }
      },
      "execution_count": null,
      "outputs": [
        {
          "output_type": "stream",
          "name": "stdout",
          "text": [
            "13193\n"
          ]
        }
      ]
    },
    {
      "cell_type": "code",
      "source": [
        "#Day 3 star 1\n",
        "total_sum = 0\n",
        "with open(\"input.txt\") as f:\n",
        "  backpacks = f.read().splitlines()\n",
        "  for backpack in backpacks:\n",
        "    left_pocket, right_pocket = set(backpack[:len(backpack)//2]), set(backpack[len(backpack)//2:])\n",
        "    item = list(left_pocket.intersection(right_pocket))[0]\n",
        "    if ord('a') <= ord(item) <= ord('z'):\n",
        "      total_sum += ord(item) - 96\n",
        "    else:\n",
        "      total_sum += ord(item) - 38\n",
        "print(total_sum)"
      ],
      "metadata": {
        "colab": {
          "base_uri": "https://localhost:8080/"
        },
        "id": "rWmzCXLq595O",
        "outputId": "5a2edf53-d8f8-4aa6-c6a5-7d20b3aad789"
      },
      "execution_count": 27,
      "outputs": [
        {
          "output_type": "stream",
          "name": "stdout",
          "text": [
            "7785\n"
          ]
        }
      ]
    },
    {
      "cell_type": "code",
      "source": [
        "#Day 3 star 2\n",
        "total_sum = 0\n",
        "with open(\"input.txt\") as f:\n",
        "  backpacks = f.read().splitlines()\n",
        "  for i in range(0,len(backpacks),3):\n",
        "    rucksacks = backpacks[i:i+3]\n",
        "    item = list(set(rucksacks[0]).intersection(set(rucksacks[1]).intersection(set(rucksacks[2]))))[0]\n",
        "    if ord('a') <= ord(item) <= ord('z'):\n",
        "      total_sum += ord(item) - 96\n",
        "    else:\n",
        "      total_sum += ord(item) - 38\n",
        "print(total_sum)"
      ],
      "metadata": {
        "colab": {
          "base_uri": "https://localhost:8080/"
        },
        "id": "Fs-L_5K2AXdy",
        "outputId": "16348803-024a-430a-9c8c-4efde449d45d"
      },
      "execution_count": 26,
      "outputs": [
        {
          "output_type": "stream",
          "name": "stdout",
          "text": [
            "2633\n"
          ]
        }
      ]
    },
    {
      "cell_type": "code",
      "source": [
        "#Day 4 star 1\n",
        "#ищем пересекающиеся диапазоны в файлах\n",
        "subset_count = 0\n",
        "intersect_count = 0\n",
        "with open('input.txt') as f:\n",
        "  lines = [line.replace('\\n', '') for line in f.readlines()]\n",
        "  lines = [list(map(lambda x: list(map(lambda x: int(x), x.split('-'))), line.split(','))) for line in lines]\n",
        "  for line in lines:\n",
        "    elf1 = set(range(line[0][0], line[0][1] + 1))\n",
        "    elf2 = set(range(line[1][0], line[1][1] + 1))\n",
        "    \n",
        "    if elf1.issubset(elf2) or elf2.issubset(elf1):\n",
        "      subset_count +=1\n",
        "    if elf1.intersection(elf2) != set():\n",
        "      intersect_count += 1\n",
        "\n",
        "print(subset_count)\n",
        "print(intersect_count)"
      ],
      "metadata": {
        "colab": {
          "base_uri": "https://localhost:8080/"
        },
        "id": "MdP-I95ohbGo",
        "outputId": "fc59818e-2856-4be1-c319-e13de8b410b4"
      },
      "execution_count": null,
      "outputs": [
        {
          "output_type": "stream",
          "name": "stdout",
          "text": [
            "483\n",
            "874\n"
          ]
        }
      ]
    },
    {
      "cell_type": "code",
      "source": [
        "#Day 5 star 1, 2\n",
        "#\n",
        "#     [H]         [H]         [V]    \n",
        "#     [V]         [V] [J]     [F] [F]\n",
        "#     [S] [L]     [M] [B]     [L] [J]\n",
        "#     [C] [N] [B] [W] [D]     [D] [M]\n",
        "# [G] [L] [M] [S] [S] [C]     [T] [V]\n",
        "# [P] [B] [B] [P] [Q] [S] [L] [H] [B]\n",
        "# [N] [J] [D] [V] [C] [Q] [Q] [M] [P]\n",
        "# [R] [T] [T] [R] [G] [W] [F] [W] [L]\n",
        "#  1   2   3   4   5   6   7   8   9 \n",
        "from functools import reduce\n",
        "\n",
        "def apply_command(command, isStar2 = False):\n",
        "  words = command.split(' ')\n",
        "  init_col, final_col, count = int(words[3]) - 1, int(words[5]) - 1, int(words[1])\n",
        "  if isStar2:\n",
        "    position[final_col] = position[init_col][:count] + position[final_col]\n",
        "  else:\n",
        "    position[final_col] = position[init_col][:count][::-1] + position[final_col]\n",
        "  position[init_col] = position[init_col][count:]\n",
        "\n",
        "#start\n",
        "position = [\n",
        "    ['G', 'P', 'N', 'R'], \n",
        "    ['H', 'V', 'S', 'C', 'L', 'B', 'J', 'T'], \n",
        "    ['L', 'N', 'M', 'B', 'D', 'T'],\n",
        "    ['B', 'S', 'P','V','R'],\n",
        "    ['H', 'V', 'M', 'W', 'S', 'Q', 'C', 'G'],\n",
        "    ['J',' B', 'D', 'C', 'S', 'Q', 'W'],\n",
        "    ['L', 'Q', 'F'],\n",
        "    ['V', 'F', 'L', 'D', 'T', 'H', 'M', 'W'],\n",
        "    ['F', 'J', 'M', 'V', 'B', 'P', 'L']]\n",
        "\n",
        "with open('input_day5.txt') as f:\n",
        "  lines = f.read().splitlines()\n",
        "  for command in lines:\n",
        "    apply_command(command)\n",
        "\n",
        "print(reduce(lambda x, y: x + y[0], position, ''))"
      ],
      "metadata": {
        "id": "EqkWoM77rfzU",
        "outputId": "218eb545-1816-4cd6-937d-0a03c0d4a9c2",
        "colab": {
          "base_uri": "https://localhost:8080/"
        }
      },
      "execution_count": null,
      "outputs": [
        {
          "output_type": "stream",
          "name": "stdout",
          "text": [
            "HBTMTBSDC\n"
          ]
        }
      ]
    }
  ]
}