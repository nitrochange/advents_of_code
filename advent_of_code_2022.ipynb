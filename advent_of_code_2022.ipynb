{
  "nbformat": 4,
  "nbformat_minor": 0,
  "metadata": {
    "colab": {
      "provenance": [],
      "authorship_tag": "ABX9TyOhISyRECpXxJ1t8Xmv1jmV"
    },
    "kernelspec": {
      "name": "python3",
      "display_name": "Python 3"
    },
    "language_info": {
      "name": "python"
    }
  },
  "cells": [
    {
      "cell_type": "code",
      "execution_count": 20,
      "metadata": {
        "id": "xyG10cS47kv-",
        "colab": {
          "base_uri": "https://localhost:8080/"
        },
        "outputId": "12d5eca1-f32a-432d-9db2-7819e7ab88ed"
      },
      "outputs": [
        {
          "output_type": "stream",
          "name": "stdout",
          "text": [
            "70296\n"
          ]
        }
      ],
      "source": [
        "#Day 1\n",
        "#Star 1\n",
        "with open(\"input.txt\") as f:\n",
        "  lines = [line.replace('\\n', '') for line in f.readlines()]\n",
        "  elfs = list()\n",
        "  for index in range(len(lines)):\n",
        "    food = 0\n",
        "    while index < len(lines) and lines[index] != '':\n",
        "      food += int(lines[index])\n",
        "      index += 1\n",
        "    elfs.append(food)\n",
        "print(max(elfs))\n",
        "\n"
      ]
    },
    {
      "cell_type": "code",
      "source": [
        "#Day 1 star 2\n",
        "print(sum(sorted(elfs, reverse=True)[:3]))"
      ],
      "metadata": {
        "colab": {
          "base_uri": "https://localhost:8080/"
        },
        "id": "AX-C6ryk_V4p",
        "outputId": "c775ff3e-3f1a-40a0-8e86-edc8bd4f0392"
      },
      "execution_count": 22,
      "outputs": [
        {
          "output_type": "stream",
          "name": "stdout",
          "text": [
            "205381\n"
          ]
        }
      ]
    },
    {
      "cell_type": "code",
      "source": [],
      "metadata": {
        "id": "SRqxHIjc_U5j"
      },
      "execution_count": null,
      "outputs": []
    }
  ]
}