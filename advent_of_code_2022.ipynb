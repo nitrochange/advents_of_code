{
  "nbformat": 4,
  "nbformat_minor": 0,
  "metadata": {
    "colab": {
      "provenance": [],
      "authorship_tag": "ABX9TyOeR5SDUj8dsBJQzAWzrr+l"
    },
    "kernelspec": {
      "name": "python3",
      "display_name": "Python 3"
    },
    "language_info": {
      "name": "python"
    }
  },
  "cells": [
    {
      "cell_type": "code",
      "execution_count": null,
      "metadata": {
        "id": "xyG10cS47kv-",
        "colab": {
          "base_uri": "https://localhost:8080/"
        },
        "outputId": "12d5eca1-f32a-432d-9db2-7819e7ab88ed"
      },
      "outputs": [
        {
          "output_type": "stream",
          "name": "stdout",
          "text": [
            "70296\n"
          ]
        }
      ],
      "source": [
        "#Day 1\n",
        "#Star 1\n",
        "with open(\"input.txt\") as f:\n",
        "  lines = [line.replace('\\n', '') for line in f.readlines()]\n",
        "  elfs = list()\n",
        "  for index in range(len(lines)):\n",
        "    food = 0\n",
        "    while index < len(lines) and lines[index] != '':\n",
        "      food += int(lines[index])\n",
        "      index += 1\n",
        "    elfs.append(food)\n",
        "print(max(elfs))\n",
        "\n"
      ]
    },
    {
      "cell_type": "code",
      "source": [
        "#Day 1 star 2\n",
        "print(sum(sorted(elfs, reverse=True)[:3]))"
      ],
      "metadata": {
        "colab": {
          "base_uri": "https://localhost:8080/"
        },
        "id": "AX-C6ryk_V4p",
        "outputId": "c775ff3e-3f1a-40a0-8e86-edc8bd4f0392"
      },
      "execution_count": null,
      "outputs": [
        {
          "output_type": "stream",
          "name": "stdout",
          "text": [
            "205381\n"
          ]
        }
      ]
    },
    {
      "cell_type": "code",
      "source": [
        "#Day 2 star 1\n",
        "#X - камень, Y - бумага, Z - ножницы\n",
        "rewards = {'X': 1, 'Y':2, 'Z':3}\n",
        "enemy = {'A':'X', 'B':'Y', 'C':'Z'}\n",
        "total_score = 0\n",
        "with open(\"input.txt\") as f:\n",
        "  lines = [line.replace('\\n', '').split(' ') for line in f.readlines()]\n",
        "  for line in lines:\n",
        "    total_score += rewards[line[1]]\n",
        "    if enemy[line[0]] == line[1]:\n",
        "      total_score += 3\n",
        "      continue\n",
        "    if line[1] == 'X':\n",
        "      if enemy[line[0]] == 'Z':\n",
        "        total_score += 6\n",
        "    elif line[1] == 'Y':\n",
        "      if enemy[line[0]] == 'X':\n",
        "        total_score += 6\n",
        "    else:\n",
        "      if enemy[line[0]] == 'Y':\n",
        "        total_score += 6\n",
        "print(total_score)"
      ],
      "metadata": {
        "id": "SRqxHIjc_U5j",
        "outputId": "2205c648-1d3a-40ee-c655-5e1e806cdf6c",
        "colab": {
          "base_uri": "https://localhost:8080/"
        }
      },
      "execution_count": 6,
      "outputs": [
        {
          "output_type": "stream",
          "name": "stdout",
          "text": [
            "12586\n"
          ]
        }
      ]
    },
    {
      "cell_type": "code",
      "source": [
        "#Day 2 star 2\n",
        "#X - проигрыш, Y - ничья, Z - выигрыш\n",
        "total_score = 0\n",
        "rev_choise = {'X': {'X':'Z', 'Y': 'X', 'Z':'Y'}, 'Y': {'X':'X', 'Y': 'Y', 'Z':'Z'}, 'Z':{'X':'Y', 'Y':'Z','Z':'X'}}\n",
        "rounds = {'X': 0, 'Y': 3, 'Z':6}\n",
        "convert = {'A':'X', 'B':'Y', 'C':'Z'}\n",
        "rewards = {'X': 1, 'Y':2, 'Z':3}\n",
        "with open(\"input.txt\") as f:\n",
        "  lines = [line.replace('\\n', '').split(' ') for line in f.readlines()]\n",
        "  lines = list(map(lambda x: list(convert[x[0]]) + x[1:], lines))\n",
        "  for line in  lines:\n",
        "    total_score += rounds[line[1]]\n",
        "    total_score += rewards[rev_choise[line[1]][line[0]]]\n",
        "print(total_score)"
      ],
      "metadata": {
        "id": "SQmJTeb_XJnm",
        "outputId": "2d8eb8ad-99a9-4586-9acf-bd1065944a4a",
        "colab": {
          "base_uri": "https://localhost:8080/"
        }
      },
      "execution_count": 14,
      "outputs": [
        {
          "output_type": "stream",
          "name": "stdout",
          "text": [
            "13193\n"
          ]
        }
      ]
    }
  ]
}